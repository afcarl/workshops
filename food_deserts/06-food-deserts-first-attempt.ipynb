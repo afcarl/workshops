{
 "cells": [
  {
   "cell_type": "markdown",
   "metadata": {},
   "source": [
    "# Tools used\n",
    "\n",
    "* Project Jupyter notebook\n",
    "* Python\n",
    "* Pandas library\n",
    "* Open Street Map API\n",
    "* Matplotlib\n",
    "* Basemap\n",
    "* Network X\n",
    "* Open Data\n",
    "* Shortest path (Dijkstra's algorithm)"
   ]
  },
  {
   "cell_type": "code",
   "execution_count": null,
   "metadata": {
    "collapsed": true
   },
   "outputs": [],
   "source": [
    "!sudo pip install pyshp"
   ]
  },
  {
   "cell_type": "code",
   "execution_count": 1,
   "metadata": {
    "collapsed": false
   },
   "outputs": [],
   "source": [
    "%matplotlib inline\n",
    "import matplotlib.pyplot as plt\n",
    "import osmapi\n",
    "import matplotlib\n",
    "import matplotlib.cm as cm\n",
    "import requests\n",
    "import matplotlib.pyplot as plt\n",
    "from matplotlib.colors import colorConverter\n",
    "from scipy import spatial\n",
    "import numpy as np\n",
    "import pandas as pd # odd dependency, must import before basemap!\n",
    "from mpl_toolkits.basemap import Basemap\n",
    "import shapefile #pyshp\n",
    "import pickle\n",
    "import shapely\n",
    "import geocoder\n",
    "import geopy\n",
    "from geopy.distance import vincenty\n",
    "import networkx as nx\n",
    "import sys\n",
    "import os\n",
    "from shapely import geometry\n",
    "from lxml import etree\n",
    "from collections import defaultdict\n",
    "from io import StringIO, BytesIO"
   ]
  },
  {
   "cell_type": "markdown",
   "metadata": {},
   "source": [
    "# For clarity, I moved some code from old notebooks into a python file"
   ]
  },
  {
   "cell_type": "code",
   "execution_count": 2,
   "metadata": {
    "collapsed": false
   },
   "outputs": [],
   "source": [
    "execfile('reused.py')"
   ]
  },
  {
   "cell_type": "markdown",
   "metadata": {},
   "source": [
    "# Create a NetworkX graph of all LA city streets from OSM"
   ]
  },
  {
   "cell_type": "code",
   "execution_count": 3,
   "metadata": {
    "collapsed": false
   },
   "outputs": [],
   "source": [
    "g = nx.Graph()\n",
    "\n",
    "intersection_check = defaultdict(list)\n",
    "\n",
    "for road_id in roads.keys():\n",
    "    road = roads[road_id]\n",
    "    children = road.getchildren()\n",
    "    ncount = 0\n",
    "    for child in children:\n",
    "        if child.tag=='nd':\n",
    "            i = child.keys().index('ref')\n",
    "            ref = child.values()[i]\n",
    "            intersection_check[ref].append(road_id)\n",
    "\n",
    "for road in roads.values():\n",
    "    road_id = road.get('id')\n",
    "    ncount = 0\n",
    "    name = '?'\n",
    "    hwtype = '?'\n",
    "    last_ref = -1\n",
    "    for child in road.getchildren():\n",
    "        if child.tag=='tag':\n",
    "            i = child.keys().index('k')\n",
    "            j = child.keys().index('v')\n",
    "            k = child.values()[i]\n",
    "            v = child.values()[j]\n",
    "            if k=='name':\n",
    "                name = v\n",
    "            if k=='highway':\n",
    "                hwtype = v\n",
    "    for child in road.getchildren():\n",
    "        if child.tag=='nd':\n",
    "            ref = child.get('ref')\n",
    "            n = nodes[ref]\n",
    "            lat = n[0]\n",
    "            lon = n[1]\n",
    "            ic = intersection_check[ref]\n",
    "            if len(ic) > 1:\n",
    "                g.add_node(ref, {'label': name, 'lat': lat, 'lon': lon})\n",
    "            else:\n",
    "                g.add_node(ref, {'label': '[intersection]', 'lat': lat, 'lon': lon})\n",
    "            if ncount > 0:\n",
    "                d = vincenty(nodes[ref], nodes[last_ref])\n",
    "                if hwtype=='primary':\n",
    "                    d *= 1\n",
    "                if hwtype=='residential':\n",
    "                    d *= 5\n",
    "                else:\n",
    "                    d *= 3\n",
    "                w = d\n",
    "                if last_ref != -1:\n",
    "                    g.add_edge(ref, last_ref, {'weight': w.meters})\n",
    "            ncount+=1\n",
    "            last_ref = ref"
   ]
  },
  {
   "cell_type": "markdown",
   "metadata": {},
   "source": [
    "# Create a KD-tree of the nodes"
   ]
  },
  {
   "cell_type": "code",
   "execution_count": 4,
   "metadata": {
    "collapsed": false
   },
   "outputs": [],
   "source": [
    "refids = []\n",
    "roadids = []\n",
    "lats = []\n",
    "lons = []\n",
    "\n",
    "for road in roads.values():\n",
    "    road_id = road.get('id')\n",
    "    for child in road.getchildren():\n",
    "        if child.tag=='nd':\n",
    "            refid = child.get('ref')\n",
    "            ll = nodes[refid]\n",
    "            refids.append(refid)\n",
    "            roadids.append(road_id)\n",
    "            lats.append(ll[0])\n",
    "            lons.append(ll[1])\n",
    "\n",
    "lldf = pd.DataFrame({'refid': refids, 'road_id': roadids, 'lat': lats, 'lon': lons})\n",
    "data = zip(lldf.lon, lldf.lat)\n",
    "rtree = spatial.KDTree(data)"
   ]
  },
  {
   "cell_type": "code",
   "execution_count": 5,
   "metadata": {
    "collapsed": false
   },
   "outputs": [
    {
     "name": "stdout",
     "output_type": "stream",
     "text": [
      "92189\n",
      "92189\n"
     ]
    }
   ],
   "source": [
    "# VALIDATION\n",
    "\n",
    "print len(g.nodes())\n",
    "print len(set(lldf.refid))"
   ]
  },
  {
   "cell_type": "markdown",
   "metadata": {},
   "source": [
    "# Really naive driving directions"
   ]
  },
  {
   "cell_type": "code",
   "execution_count": 6,
   "metadata": {
    "collapsed": false
   },
   "outputs": [
    {
     "name": "stdout",
     "output_type": "stream",
     "text": [
      "matches:[(0.00027793411089918412, 56082), (0.00035527006629831946, 3984)]\n",
      "node ids: 702389377 1773954221\n"
     ]
    }
   ],
   "source": [
    "# Coffee Bean on South Beverly Glen Blvd and Santa Monica Blvd\n",
    "lat = 34.057687\n",
    "lon = -118.424526\n",
    "n1 = rtree.query([lon, lat])\n",
    "\n",
    "# DataScience HQ\n",
    "lat = 33.9876562\n",
    "lon = -118.3833794\n",
    "n2 = rtree.query([lon, lat])\n",
    "\n",
    "print 'matches:' + str([n1, n2])\n",
    "n1 = lldf.loc[n1[1], 'refid']\n",
    "n2 = lldf.loc[n2[1], 'refid']\n",
    "print 'node ids: ' + n1 + ' ' + n2"
   ]
  },
  {
   "cell_type": "code",
   "execution_count": 7,
   "metadata": {
    "collapsed": false
   },
   "outputs": [],
   "source": [
    "path = nx.shortest_path(g, n1, n2, weight='weight')\n",
    "npath = []\n",
    "last = ''\n",
    "lats = []\n",
    "lons = []\n",
    "labels = []\n",
    "prev = {}\n",
    "c = 0\n",
    "alabels = []\n",
    "for node in path:\n",
    "    n = g.node[node]\n",
    "    ll = nodes[node]\n",
    "    lats.append(ll[0])\n",
    "    lons.append(ll[1])\n",
    "    label = n['label']\n",
    "    try:\n",
    "        i = prev[label] # a sloppy way of solving an intersection representation issue\n",
    "    except KeyError:\n",
    "        prev[label] = len(labels)\n",
    "        i = -1\n",
    "    alabels.append(label)\n",
    "    if i > 0:\n",
    "        labels = labels[0:(i+1)]\n",
    "    else:\n",
    "        if label != '[intersection]' and label != last:\n",
    "            npath.append(label)\n",
    "            last = label\n",
    "            labels.append(label)\n"
   ]
  },
  {
   "cell_type": "code",
   "execution_count": 8,
   "metadata": {
    "collapsed": false
   },
   "outputs": [
    {
     "data": {
      "text/plain": [
       "['Santa Monica Boulevard',\n",
       " 'South Beverly Glen Boulevard',\n",
       " 'Linnington Avenue',\n",
       " 'Patricia Avenue',\n",
       " 'Louisiana Avenue',\n",
       " 'Balsam Avenue',\n",
       " 'Prosser Avenue',\n",
       " 'Parnell Avenue',\n",
       " 'Manning Avenue',\n",
       " 'Pelham Avenue',\n",
       " 'Overland Avenue',\n",
       " 'Kinston Avenue',\n",
       " 'Jefferson Boulevard',\n",
       " 'Sepulveda Boulevard',\n",
       " 'W Slauson Avenue',\n",
       " 'Bristol Parkway',\n",
       " 'Uplander Way']"
      ]
     },
     "execution_count": 8,
     "metadata": {},
     "output_type": "execute_result"
    }
   ],
   "source": [
    "labels"
   ]
  },
  {
   "cell_type": "code",
   "execution_count": 149,
   "metadata": {
    "collapsed": false
   },
   "outputs": [
    {
     "data": {
      "image/png": "[encoded data removed]",
      "text/plain": [
       "<matplotlib.figure.Figure at 0x7f480d4bd250>"
      ]
     },
     "metadata": {},
     "output_type": "display_data"
    }
   ],
   "source": [
    "fig = plt.figure(figsize=(12,12))\n",
    "ax = fig.add_axes([0.1,0.1,0.8,0.8])\n",
    "bmap = Basemap(projection='stere',lon_0=-100,lat_0=35.,\\\n",
    "            llcrnrlat=33.3,urcrnrlat=34.5,\\\n",
    "            llcrnrlon=-118.8,urcrnrlon=-118.2,\\\n",
    "            rsphere=6371200.,resolution='h',area_thresh=10000)\n",
    "bmap.drawcountries()\n",
    "bmap.drawcounties(linewidth=0.25)\n",
    "bmap.drawmapboundary(fill_color='#99ffff')\n",
    "bmap.fillcontinents(color='#ffffff',lake_color='darkblue', zorder=0)\n",
    "bmap.drawrivers()\n",
    "\n",
    "x, y = bmap(lons, lats)\n",
    "bmap.scatter(x,y,s=1,marker='o',color='b')\n",
    "\n",
    "plt.show()"
   ]
  },
  {
   "cell_type": "markdown",
   "metadata": {
    "collapsed": true
   },
   "source": [
    "# Retrieve Active Businesses from LA Open Data Portal"
   ]
  },
  {
   "cell_type": "code",
   "execution_count": 9,
   "metadata": {
    "collapsed": false
   },
   "outputs": [],
   "source": [
    "# GET DATA ON ACTIVE BUSINESSES IN LOS ANGELES\n",
    "\n",
    "fname = 'businesses.csv'\n",
    "if not(os.path.isfile(fname)):\n",
    "    url = 'https://data.lacity.org/A-Prosperous-City/Listing-of-Active-Businesses/6rrh-rzua'\n",
    "    print 'Getting ' + url\n",
    "    r = requests.get(url)\n",
    "    f = open('businesses.csv', 'w')\n",
    "    f.write(r.text.encode('utf-8'))\n",
    "    f.close()\n",
    "businesses = pd.read_csv('businesses.csv')"
   ]
  },
  {
   "cell_type": "markdown",
   "metadata": {},
   "source": [
    "## Select just grocery stores"
   ]
  },
  {
   "cell_type": "code",
   "execution_count": 110,
   "metadata": {
    "collapsed": false
   },
   "outputs": [
    {
     "data": {
      "text/html": [
       "<div style=\"max-height:1000px;max-width:1500px;overflow:auto;\">\n",
       "<table border=\"1\" class=\"dataframe\">\n",
       "  <thead>\n",
       "    <tr style=\"text-align: right;\">\n",
       "      <th></th>\n",
       "      <th>name</th>\n",
       "      <th>freq</th>\n",
       "    </tr>\n",
       "  </thead>\n",
       "  <tbody>\n",
       "    <tr>\n",
       "      <th>1380</th>\n",
       "      <td>THE VONS COMPANIES INC</td>\n",
       "      <td>27</td>\n",
       "    </tr>\n",
       "    <tr>\n",
       "      <th>1395</th>\n",
       "      <td>TRADER JOE'S CO</td>\n",
       "      <td>18</td>\n",
       "    </tr>\n",
       "    <tr>\n",
       "      <th>739</th>\n",
       "      <td>KENK USA INC</td>\n",
       "      <td>15</td>\n",
       "    </tr>\n",
       "    <tr>\n",
       "      <th>424</th>\n",
       "      <td>FRESH &amp; EASY, LLC</td>\n",
       "      <td>14</td>\n",
       "    </tr>\n",
       "    <tr>\n",
       "      <th>439</th>\n",
       "      <td>GELSON'S MARKETS</td>\n",
       "      <td>10</td>\n",
       "    </tr>\n",
       "    <tr>\n",
       "      <th>148</th>\n",
       "      <td>BERBERIAN ENTERPRISES INC</td>\n",
       "      <td>10</td>\n",
       "    </tr>\n",
       "    <tr>\n",
       "      <th>1048</th>\n",
       "      <td>NUMERO UNO ACQUISITIONS LLC</td>\n",
       "      <td>8</td>\n",
       "    </tr>\n",
       "    <tr>\n",
       "      <th>52</th>\n",
       "      <td>ALBERTSONS LLC</td>\n",
       "      <td>8</td>\n",
       "    </tr>\n",
       "    <tr>\n",
       "      <th>992</th>\n",
       "      <td>MOTHERS NUTRITIONAL CENTER INC</td>\n",
       "      <td>7</td>\n",
       "    </tr>\n",
       "    <tr>\n",
       "      <th>1334</th>\n",
       "      <td>SUPER CENTER CONCEPTS INC</td>\n",
       "      <td>6</td>\n",
       "    </tr>\n",
       "    <tr>\n",
       "      <th>158</th>\n",
       "      <td>BODEGA LATINA CORP</td>\n",
       "      <td>5</td>\n",
       "    </tr>\n",
       "    <tr>\n",
       "      <th>1044</th>\n",
       "      <td>NORTHGATE GONZALEZ LLC</td>\n",
       "      <td>5</td>\n",
       "    </tr>\n",
       "    <tr>\n",
       "      <th>753</th>\n",
       "      <td>KIRAN HUSSAIN</td>\n",
       "      <td>5</td>\n",
       "    </tr>\n",
       "    <tr>\n",
       "      <th>302</th>\n",
       "      <td>DOMENO &amp; ASSOCIATES /C</td>\n",
       "      <td>4</td>\n",
       "    </tr>\n",
       "    <tr>\n",
       "      <th>1262</th>\n",
       "      <td>SHARMEENS ENTERPRISES INC</td>\n",
       "      <td>4</td>\n",
       "    </tr>\n",
       "    <tr>\n",
       "      <th>994</th>\n",
       "      <td>MRS GOOCHS NATURAL FOOD MARKETS INC</td>\n",
       "      <td>4</td>\n",
       "    </tr>\n",
       "    <tr>\n",
       "      <th>222</th>\n",
       "      <td>CHEVRON STATIONS INC</td>\n",
       "      <td>3</td>\n",
       "    </tr>\n",
       "    <tr>\n",
       "      <th>490</th>\n",
       "      <td>H - H &amp; S ENTERPRISES, INC.</td>\n",
       "      <td>3</td>\n",
       "    </tr>\n",
       "    <tr>\n",
       "      <th>640</th>\n",
       "      <td>JMGS SETHI CORPORATION</td>\n",
       "      <td>3</td>\n",
       "    </tr>\n",
       "  </tbody>\n",
       "</table>\n",
       "</div>"
      ],
      "text/plain": [
       "                                     name  freq\n",
       "1380               THE VONS COMPANIES INC    27\n",
       "1395                      TRADER JOE'S CO    18\n",
       "739                          KENK USA INC    15\n",
       "424                     FRESH & EASY, LLC    14\n",
       "439                      GELSON'S MARKETS    10\n",
       "148             BERBERIAN ENTERPRISES INC    10\n",
       "1048          NUMERO UNO ACQUISITIONS LLC     8\n",
       "52                         ALBERTSONS LLC     8\n",
       "992        MOTHERS NUTRITIONAL CENTER INC     7\n",
       "1334            SUPER CENTER CONCEPTS INC     6\n",
       "158                    BODEGA LATINA CORP     5\n",
       "1044               NORTHGATE GONZALEZ LLC     5\n",
       "753                         KIRAN HUSSAIN     5\n",
       "302                DOMENO & ASSOCIATES /C     4\n",
       "1262            SHARMEENS ENTERPRISES INC     4\n",
       "994   MRS GOOCHS NATURAL FOOD MARKETS INC     4\n",
       "222                  CHEVRON STATIONS INC     3\n",
       "490           H - H & S ENTERPRISES, INC.     3\n",
       "640                JMGS SETHI CORPORATION     3"
      ]
     },
     "execution_count": 110,
     "metadata": {},
     "output_type": "execute_result"
    }
   ],
   "source": [
    "# SELECT ALL GROCERY STORES AND AGGREGATE\n",
    "\n",
    "filter = businesses['PRIMARY NAICS DESCRIPTION'] == 'Grocery stores (including supermarkets & convenience stores without gas)'\n",
    "groceries = businesses[filter].copy()\n",
    "gp = pd.DataFrame(groceries.groupby('BUSINESS NAME')['LOCATION ACCOUNT #'].count())\n",
    "gp.reset_index(inplace=True)\n",
    "gp.columns = ['name', 'freq']\n",
    "gp.sort('freq', ascending=False, inplace=True)\n",
    "gp[1:20]"
   ]
  },
  {
   "cell_type": "markdown",
   "metadata": {},
   "source": [
    "## Quick web search on unrecognized names reveals...\n",
    "\n",
    "BERBERIAN ENTERPRISES INC = Jons\n",
    "\n",
    "KENK USA INC = Tesoro (gas / convenience)"
   ]
  },
  {
   "cell_type": "markdown",
   "metadata": {},
   "source": [
    "# Label Stores\n",
    "\n",
    "Ideally, I'd like to be labeling these stores based on whether or not they're a full grocery store or not.\n",
    "\n",
    "In leiu of that, let's look at access to large chains (accept some false negatives)."
   ]
  },
  {
   "cell_type": "code",
   "execution_count": 113,
   "metadata": {
    "collapsed": false
   },
   "outputs": [],
   "source": [
    "# CRUDELY LABEL THOSE THAT ARE CHAINS\n",
    "\n",
    "groceries['chain'] = 0\n",
    "\n",
    "chains = ['THE VONS COMPANIES INC', \"TRADER JOE'S CO\", 'FRESH & EASY, LLC', \"GELSON'S MARKETS\"\n",
    "          , \"BERBERIAN ENTERPRISES INC\", 'NUMERO UNO ACQUISITIONS LLC', 'ALBERTSONS LLC'\n",
    "          , 'MOTHERS NUTRITIONAL CENTER INC', 'THE VONS COMPANIES INC', \"TRADER JOE'S CO\", 'FRESH & EASY, LLC'\n",
    "          , \"GELSON'S MARKETS\", \"BERBERIAN ENTERPRISES INC\", 'NUMERO UNO ACQUISITIONS LLC'\n",
    "          , 'ALBERTSONS LLC', 'MOTHERS NUTRITIONAL CENTER INC']\n",
    "\n",
    "for chain in chains:\n",
    "    filter = groceries['BUSINESS NAME'] == chain\n",
    "    groceries.loc[filter, 'chain'] = 1\n",
    "\n",
    "chains = groceries[groceries.chain==1].copy()"
   ]
  },
  {
   "cell_type": "code",
   "execution_count": 114,
   "metadata": {
    "collapsed": false
   },
   "outputs": [
    {
     "name": "stdout",
     "output_type": "stream",
     "text": [
      "Retrieving previous geo-coded data\n"
     ]
    }
   ],
   "source": [
    "# LOAD ANY CACHED GEO-CODED LOCATIONS, RETRIEVE THE REST VIA API AND SAVE\n",
    "# DATASET HAS LOCATIONS, BUT THEY AREN'T VERY PRECISE AND SOME ARE MISSING\n",
    "\n",
    "full_address = chains.apply(lambda x: x['STREET ADDRESS'] + ', ' + x['CITY'] + ', CA ' + x['ZIP CODE'], axis=1)\n",
    "chains['FULL ADDRESS'] = full_address\n",
    "\n",
    "gfname = 'geocoded.pkl'\n",
    "gresults = {}\n",
    "if os.path.isfile(gfname):\n",
    "    print 'Retrieving previous geo-coded data'\n",
    "    f = open(gfname, 'r')\n",
    "    gresults = pickle.load(f)\n",
    "    f.close()\n",
    "\n",
    "for f in full_address:\n",
    "    try:\n",
    "        loc = gresults[f]\n",
    "    except KeyError:\n",
    "        try:\n",
    "            print 'Retrieving ' + f\n",
    "            loc = geocoder.google(f)\n",
    "            gresults[f] = loc.latlng\n",
    "            time.sleep(1)\n",
    "        except GeocoderTimedOut:\n",
    "            time.sleep(60)\n",
    "\n",
    "f = open(gfname, 'wb')\n",
    "pickle.dump(gresults, f)\n",
    "f.close()"
   ]
  },
  {
   "cell_type": "code",
   "execution_count": 115,
   "metadata": {
    "collapsed": false
   },
   "outputs": [],
   "source": [
    "# ENRICH THE DATAFRAME\n",
    "\n",
    "lats = []\n",
    "lons = []\n",
    "for f in full_address:\n",
    "    loc = gresults[f]\n",
    "    lats.append(loc['lat'])\n",
    "    lons.append(loc['lng'])\n",
    "\n",
    "chains['lat'] = lats\n",
    "chains['lon'] = lons"
   ]
  },
  {
   "cell_type": "code",
   "execution_count": 14,
   "metadata": {
    "collapsed": false
   },
   "outputs": [],
   "source": [
    "# LET'S CACHE THE RESULTS BECAUSE A LOT OF DATA MUNGING IS NOW DONE\n",
    "\n",
    "chains.to_csv('chains.tsv', set='\\t')"
   ]
  },
  {
   "cell_type": "code",
   "execution_count": 30,
   "metadata": {
    "collapsed": false
   },
   "outputs": [
    {
     "data": {
      "image/png": "[encoded data removed]",
      "text/plain": [
       "<matplotlib.figure.Figure at 0x7f4ee9f46290>"
      ]
     },
     "metadata": {},
     "output_type": "display_data"
    }
   ],
   "source": [
    "# VISUALIZE THE CHAINS\n",
    "\n",
    "fig = plt.figure(figsize=(12,12))\n",
    "ax = fig.add_axes([0.1,0.1,0.8,0.8])\n",
    "bmap = Basemap(projection='stere',lon_0=-100,lat_0=35.,\\\n",
    "            llcrnrlat=33.3,urcrnrlat=34.5,\\\n",
    "            llcrnrlon=-118.8,urcrnrlon=-118.2,\\\n",
    "            rsphere=6371200.,resolution='h',area_thresh=10000)\n",
    "bmap.drawcountries()\n",
    "bmap.drawcounties(linewidth=0.25)\n",
    "bmap.drawmapboundary(fill_color='#99ffff')\n",
    "bmap.fillcontinents(color='#ffffff',lake_color='darkblue', zorder=0)\n",
    "bmap.drawrivers()\n",
    "\n",
    "x, y = bmap(lons, lats)\n",
    "bmap.scatter(x,y,100,marker='o',color='b', alpha=0.2)\n",
    "\n",
    "plt.show()"
   ]
  },
  {
   "cell_type": "code",
   "execution_count": null,
   "metadata": {
    "collapsed": true
   },
   "outputs": [],
   "source": [
    "# FIND NEAREST NODE TO EACH"
   ]
  },
  {
   "cell_type": "code",
   "execution_count": 15,
   "metadata": {
    "collapsed": false
   },
   "outputs": [],
   "source": [
    "nearest_intersection = []\n",
    "for i in range(chains.shape[0]):\n",
    "    row = chains.iloc[i]\n",
    "    r = rtree.query([row.lon, row.lat])\n",
    "    rownum = r[1]\n",
    "    refid = lldf.loc[rownum, 'refid']\n",
    "    nearest_intersection.append(refid)"
   ]
  },
  {
   "cell_type": "code",
   "execution_count": 54,
   "metadata": {
    "collapsed": false
   },
   "outputs": [],
   "source": [
    "# GET DISTANCE TO ALL NODES FROM FIRST GROCERY STORE\n",
    "\n",
    "ni = nearest_intersection[0]\n",
    "spaths = nx.single_source_dijkstra_path_length(g, source=ni, weight='meters')\n",
    "df = pd.DataFrame({'start': ni, 'dest': spaths.keys(), 'dist': spaths.values()})"
   ]
  },
  {
   "cell_type": "code",
   "execution_count": 55,
   "metadata": {
    "collapsed": false
   },
   "outputs": [
    {
     "name": "stdout",
     "output_type": "stream",
     "text": [
      "0% complete\n",
      "10% complete\n",
      "20% complete\n",
      "30% complete\n",
      "40% complete\n",
      "50% complete\n",
      "60% complete\n",
      "70% complete\n",
      "80% complete\n",
      "90% complete\n"
     ]
    }
   ],
   "source": [
    "last_update = -1\n",
    "for i in range (1, len(nearest_intersection)):\n",
    "    u = int(10.0 * i / len(nearest_intersection))\n",
    "    if u != last_update:\n",
    "        print str(u*10) + '% complete'\n",
    "        last_update = u\n",
    "    ni = nearest_intersection[i]\n",
    "    spaths = nx.single_source_dijkstra_path_length(g, source=ni, weight='meters')\n",
    "    df2 = pd.DataFrame({'start': ni, 'dest': spaths.keys(), 'dist': spaths.values()})\n",
    "    m = pd.merge(df, df2, on=['dest'])\n",
    "    xmin = m['dist_x'] <= m['dist_y']\n",
    "    m['dist'] = 9999\n",
    "    m.ix[xmin, 'dist'] = m[xmin]['dist_x']\n",
    "    m.ix[xmin, 'start'] = m[xmin]['start_x']\n",
    "    m.ix[~xmin, 'dist'] = m[~xmin]['dist_y']\n",
    "    m.ix[~xmin, 'start'] = m[~xmin]['start_y']\n",
    "    m.drop('dist_x', axis=1, inplace=True)\n",
    "    m.drop('dist_y', axis=1, inplace=True)\n",
    "    m.drop('start_x', axis=1, inplace=True)\n",
    "    m.drop('start_y', axis=1, inplace=True)\n",
    "    df = m"
   ]
  },
  {
   "cell_type": "code",
   "execution_count": 117,
   "metadata": {
    "collapsed": false
   },
   "outputs": [
    {
     "data": {
      "image/png": "[encoded data removed]",
      "text/plain": [
       "<matplotlib.figure.Figure at 0x7febb1dfd990>"
      ]
     },
     "metadata": {},
     "output_type": "display_data"
    }
   ],
   "source": [
    "df.sort('dist', inplace=True)\n",
    "df.index = np.arange(df.shape[0])\n",
    "plt.figure(figsize=(15,8))\n",
    "plt.plot(df.index, df.dist)\n",
    "plt.xlabel('ordered distances')\n",
    "plt.ylabel('meters')\n",
    "plt.show()"
   ]
  },
  {
   "cell_type": "code",
   "execution_count": 81,
   "metadata": {
    "collapsed": false
   },
   "outputs": [],
   "source": [
    "cutoff = np.percentile(df.dist, 95)\n",
    "desert_df = df[df.dist > cutoff]\n",
    "desert_df.columns = ['location_id', 'dist', 'nearest_store_id']\n",
    "desert_df.index = np.arange(desert_df.shape[0])"
   ]
  },
  {
   "cell_type": "code",
   "execution_count": 82,
   "metadata": {
    "collapsed": false
   },
   "outputs": [
    {
     "data": {
      "text/html": [
       "<div style=\"max-height:1000px;max-width:1500px;overflow:auto;\">\n",
       "<table border=\"1\" class=\"dataframe\">\n",
       "  <thead>\n",
       "    <tr style=\"text-align: right;\">\n",
       "      <th></th>\n",
       "      <th>location_id</th>\n",
       "      <th>dist</th>\n",
       "      <th>nearest_store_id</th>\n",
       "    </tr>\n",
       "  </thead>\n",
       "  <tbody>\n",
       "    <tr>\n",
       "      <th>0</th>\n",
       "      <td>1974141035</td>\n",
       "      <td>125</td>\n",
       "      <td>700726062</td>\n",
       "    </tr>\n",
       "    <tr>\n",
       "      <th>1</th>\n",
       "      <td>2337333381</td>\n",
       "      <td>125</td>\n",
       "      <td>2380390731</td>\n",
       "    </tr>\n",
       "    <tr>\n",
       "      <th>2</th>\n",
       "      <td>2090778421</td>\n",
       "      <td>125</td>\n",
       "      <td>441910921</td>\n",
       "    </tr>\n",
       "    <tr>\n",
       "      <th>3</th>\n",
       "      <td>1908503232</td>\n",
       "      <td>125</td>\n",
       "      <td>700726062</td>\n",
       "    </tr>\n",
       "    <tr>\n",
       "      <th>4</th>\n",
       "      <td>1488571831</td>\n",
       "      <td>125</td>\n",
       "      <td>14760044</td>\n",
       "    </tr>\n",
       "  </tbody>\n",
       "</table>\n",
       "</div>"
      ],
      "text/plain": [
       "  location_id  dist nearest_store_id\n",
       "0  1974141035   125        700726062\n",
       "1  2337333381   125       2380390731\n",
       "2  2090778421   125        441910921\n",
       "3  1908503232   125        700726062\n",
       "4  1488571831   125         14760044"
      ]
     },
     "execution_count": 82,
     "metadata": {},
     "output_type": "execute_result"
    }
   ],
   "source": [
    "desert_df.head()"
   ]
  },
  {
   "cell_type": "code",
   "execution_count": 86,
   "metadata": {
    "collapsed": false
   },
   "outputs": [],
   "source": [
    "deserts = []\n",
    "for lid in desert_df['location_id']:\n",
    "    deserts.append(nodes[lid])"
   ]
  },
  {
   "cell_type": "code",
   "execution_count": 96,
   "metadata": {
    "collapsed": false
   },
   "outputs": [],
   "source": [
    "df3 = pd.DataFrame(deserts)\n",
    "df3.columns = ['lat', 'lon']"
   ]
  },
  {
   "cell_type": "code",
   "execution_count": 109,
   "metadata": {
    "collapsed": false
   },
   "outputs": [
    {
     "data": {
      "image/png": "[encoded data removed]",
      "text/plain": [
       "<matplotlib.figure.Figure at 0x7febb1c90750>"
      ]
     },
     "metadata": {},
     "output_type": "display_data"
    }
   ],
   "source": [
    "# VISUALIZE THE CHAINS\n",
    "\n",
    "fig = plt.figure(figsize=(12,12))\n",
    "ax = fig.add_axes([0.1,0.1,0.8,0.8])\n",
    "bmap = Basemap(projection='stere',lon_0=-100,lat_0=35.,\\\n",
    "            llcrnrlat=33.3,urcrnrlat=34.5,\\\n",
    "            llcrnrlon=-118.8,urcrnrlon=-118.2,\\\n",
    "            rsphere=6371200.,resolution='h',area_thresh=10000)\n",
    "bmap.drawcountries()\n",
    "bmap.drawcounties(linewidth=0.25)\n",
    "bmap.drawmapboundary(fill_color='#99ffff')\n",
    "bmap.fillcontinents(color='#ffffff',lake_color='darkblue', zorder=0)\n",
    "bmap.drawrivers()\n",
    "\n",
    "x, y = bmap(lons, lats)\n",
    "bmap.scatter(x,y,50,marker='o',color='b', alpha=0.2)\n",
    "\n",
    "x, y = bmap(df3.lon.tolist(), df3.lat.tolist())\n",
    "bmap.scatter(x,y,100,marker='o',color='r', alpha=0.2)\n",
    "\n",
    "plt.show()"
   ]
  },
  {
   "cell_type": "markdown",
   "metadata": {},
   "source": [
    "# Criticism and Next Steps\n",
    "\n",
    "* Incomplete list of grocery locations (only LA proper)\n",
    "* Weak choice on what constitutes and acceptable grocery store\n",
    "* Distance does not really reflect realistic driving routes\n",
    "* Distance does not consider public transit access, nor transit riders\n",
    "* Fails to account for affluent people in the hills"
   ]
  }
 ],
 "metadata": {
  "kernelspec": {
   "display_name": "Python 2",
   "language": "python",
   "name": "python2"
  },
  "language_info": {
   "codemirror_mode": {
    "name": "ipython",
    "version": 2
   },
   "file_extension": ".py",
   "mimetype": "text/x-python",
   "name": "python",
   "nbconvert_exporter": "python",
   "pygments_lexer": "ipython2",
   "version": "2.7.6"
  }
 },
 "nbformat": 4,
 "nbformat_minor": 0
}
