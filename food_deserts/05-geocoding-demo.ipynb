{
 "cells": [
  {
   "cell_type": "markdown",
   "metadata": {},
   "source": [
    "# Geocoding\n",
    "\n",
    "* Converting a plain text address into a latitude and longitude\n",
    "* There are many web based services and APIs\n",
    "* I like the geocoder Python library"
   ]
  },
  {
   "cell_type": "code",
   "execution_count": 1,
   "metadata": {
    "collapsed": false
   },
   "outputs": [
    {
     "name": "stdout",
     "output_type": "stream",
     "text": [
      "Downloading/unpacking geocoder\n",
      "  Downloading geocoder-1.3.1-py2.py3-none-any.whl (52kB): 52kB downloaded\n",
      "Requirement already satisfied (use --upgrade to upgrade): requests in /usr/lib/python2.7/dist-packages (from geocoder)\n",
      "Requirement already satisfied (use --upgrade to upgrade): click in /usr/local/lib/python2.7/dist-packages (from geocoder)\n",
      "Downloading/unpacking ratelim (from geocoder)\n",
      "  Downloading ratelim-0.1.6-py2.py3-none-any.whl\n",
      "Requirement already satisfied (use --upgrade to upgrade): decorator in /usr/lib/python2.7/dist-packages (from ratelim->geocoder)\n",
      "Installing collected packages: geocoder, ratelim\n",
      "Successfully installed geocoder ratelim\n",
      "Cleaning up...\n"
     ]
    }
   ],
   "source": [
    "!sudo pip install geocoder"
   ]
  },
  {
   "cell_type": "code",
   "execution_count": 2,
   "metadata": {
    "collapsed": true
   },
   "outputs": [],
   "source": [
    "import geocoder"
   ]
  },
  {
   "cell_type": "code",
   "execution_count": 3,
   "metadata": {
    "collapsed": false
   },
   "outputs": [
    {
     "data": {
      "text/plain": [
       "<[OK] Google - Geocode [200 Corporate Pointe, Culver City, CA 90230, USA]>"
      ]
     },
     "execution_count": 3,
     "metadata": {},
     "output_type": "execute_result"
    }
   ],
   "source": [
    "loc = geocoder.google('200 Corporate Pointe, Culver City, CA')\n",
    "loc"
   ]
  },
  {
   "cell_type": "code",
   "execution_count": 4,
   "metadata": {
    "collapsed": false
   },
   "outputs": [
    {
     "data": {
      "text/plain": [
       "{'lat': 33.9876562, 'lng': -118.3833794}"
      ]
     },
     "execution_count": 4,
     "metadata": {},
     "output_type": "execute_result"
    }
   ],
   "source": [
    "loc.latlng"
   ]
  },
  {
   "cell_type": "markdown",
   "metadata": {},
   "source": [
    "# Uses for Geocoding in Data Science\n",
    "* Frequent data munging step"
   ]
  }
 ],
 "metadata": {
  "kernelspec": {
   "display_name": "Python 2",
   "language": "python",
   "name": "python2"
  },
  "language_info": {
   "codemirror_mode": {
    "name": "ipython",
    "version": 2
   },
   "file_extension": ".py",
   "mimetype": "text/x-python",
   "name": "python",
   "nbconvert_exporter": "python",
   "pygments_lexer": "ipython2",
   "version": "2.7.6"
  }
 },
 "nbformat": 4,
 "nbformat_minor": 0
}
