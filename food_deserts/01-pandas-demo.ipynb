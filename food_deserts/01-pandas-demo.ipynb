{
 "cells": [
  {
   "cell_type": "markdown",
   "metadata": {},
   "source": [
    "# Pandas\n",
    "\n",
    "* [Pandas](http://pandas.pydata.org/) is the swiss army knife of data analysis.  It is worthy of a series of workshops.\n",
    "* If you are not familiar with Pandas already, you should read the [10 minutes to Pandas](http://pandas.pydata.org/pandas-docs/stable/10min.html) guide.  \n",
    "* For a more extensive and light hearted exploration of Pandas, also check [A Pandas Cookbook by Julia Evans](http://jvns.ca/blog/2013/12/22/cooking-with-pandas/)\n",
    "\n",
    "#Requests\n",
    "\n",
    "Requests is a simple HTTP library for doing wget/curl type operations."
   ]
  },
  {
   "cell_type": "markdown",
   "metadata": {},
   "source": [
    "## Open Data and Socrata\n",
    "\n",
    "* Socrata describes itself as a social data discovery platform.\n",
    "* Provides services to many cities including powering the [Los Angeles data portal](https://data.lacity.org/)\n",
    "* Their own portal has lots of goodies also, including [All Starbucks Locations in the world](https://opendata.socrata.com/Business/All-Starbucks-Locations-in-the-World/xy4y-c4mk)"
   ]
  },
  {
   "cell_type": "code",
   "execution_count": null,
   "metadata": {
    "collapsed": true
   },
   "outputs": [],
   "source": [
    "import numpy as np\n",
    "import pandas as pd\n",
    "import requests\n",
    "import os"
   ]
  },
  {
   "cell_type": "code",
   "execution_count": null,
   "metadata": {
    "collapsed": true
   },
   "outputs": [],
   "source": [
    "# GET A CSV OF ALL STARBUCKS LOCATIONS\n",
    "\n",
    "# If this link is ever broken, use the link above to get a new one\n",
    "\n",
    "fname = 'All_Starbucks_Locations_in_the_World.csv'\n",
    "if not(os.path.isfile(fname)):\n",
    "    print 'Getting file from Socrata portal'\n",
    "    r = requests.get('https://opendata.socrata.com/api/views/xy4y-c4mk/rows.csv?accessType=DOWNLOAD')\n",
    "    f = open(fname, 'w')\n",
    "    f.write(r.text.encode('utf-8'))\n",
    "    f.close()\n",
    "df = pd.read_csv(fname)"
   ]
  },
  {
   "cell_type": "code",
   "execution_count": null,
   "metadata": {
    "collapsed": true
   },
   "outputs": [],
   "source": [
    "# LET'S GET SOME SUMMARY STATISTICS BY COUNTRY\n",
    "\n",
    "by_country = pd.DataFrame(df.groupby(['Country'])['Store ID'].count())\n",
    "by_country.sort('Store ID', ascending=False, inplace=True)\n",
    "by_country.columns = ['count']\n",
    "by_country['percentage'] = by_country['count'] / by_country['count'].sum()\n",
    "by_country.head()"
   ]
  },
  {
   "cell_type": "code",
   "execution_count": null,
   "metadata": {
    "collapsed": true
   },
   "outputs": [],
   "source": [
    "# DRILL DOWN BY STATES\n",
    "\n",
    "filter = df['Country'] == 'US'\n",
    "usa = pd.DataFrame(df[filter])\n",
    "by_state = pd.DataFrame(usa.groupby(['Country Subdivision'])['Store ID'].count())\n",
    "by_state.sort('Store ID', ascending=False, inplace=True)\n",
    "by_state.columns = ['count']\n",
    "by_state['percentage'] = by_state['count'] / by_state['count'].sum()\n",
    "by_state.head()"
   ]
  },
  {
   "cell_type": "markdown",
   "metadata": {},
   "source": [
    "## Copy is a gotcha"
   ]
  },
  {
   "cell_type": "code",
   "execution_count": null,
   "metadata": {
    "collapsed": true
   },
   "outputs": [],
   "source": [
    "# FOCUS ON LOS ANGELES\n",
    "\n",
    "cfilter = df['Country'] == 'US'\n",
    "sfilter = df['Country Subdivision'] == 'CA'\n",
    "lafilter = df['City'] == 'Los Angeles'\n",
    "filter = cfilter & sfilter & lafilter\n",
    "la = df[filter].copy()"
   ]
  },
  {
   "cell_type": "code",
   "execution_count": null,
   "metadata": {
    "collapsed": true
   },
   "outputs": [],
   "source": [
    "# HOW MANY ROWS AND COLUMNS?\n",
    "\n",
    "la.shape"
   ]
  },
  {
   "cell_type": "code",
   "execution_count": null,
   "metadata": {
    "collapsed": true
   },
   "outputs": [],
   "source": [
    "# CAN YOU FIND YOUR FAVORITE?\n",
    "\n",
    "la[['Street 1', 'Street 2']]"
   ]
  },
  {
   "cell_type": "markdown",
   "metadata": {},
   "source": [
    "## A few Pandas features used in this workshop"
   ]
  },
  {
   "cell_type": "code",
   "execution_count": null,
   "metadata": {
    "collapsed": true
   },
   "outputs": [],
   "source": [
    "co_series = la['Ownership Type']=='CO'\n",
    "co_series.head()"
   ]
  },
  {
   "cell_type": "code",
   "execution_count": null,
   "metadata": {
    "collapsed": true
   },
   "outputs": [],
   "source": [
    "~co_series.head()"
   ]
  },
  {
   "cell_type": "code",
   "execution_count": null,
   "metadata": {
    "collapsed": true
   },
   "outputs": [],
   "source": [
    "co_series.tolist()"
   ]
  },
  {
   "cell_type": "code",
   "execution_count": null,
   "metadata": {
    "collapsed": true
   },
   "outputs": [],
   "source": [
    "la.sort('Postal Code', inplace=True)\n",
    "la.head()"
   ]
  },
  {
   "cell_type": "markdown",
   "metadata": {},
   "source": [
    "### Indexes"
   ]
  },
  {
   "cell_type": "code",
   "execution_count": null,
   "metadata": {
    "collapsed": true
   },
   "outputs": [],
   "source": [
    "la.index"
   ]
  },
  {
   "cell_type": "code",
   "execution_count": null,
   "metadata": {
    "collapsed": true
   },
   "outputs": [],
   "source": [
    "la.index = np.arange(la.shape[0])\n",
    "la.index"
   ]
  },
  {
   "cell_type": "markdown",
   "metadata": {},
   "source": [
    "### Column renaming and dropping"
   ]
  },
  {
   "cell_type": "code",
   "execution_count": null,
   "metadata": {
    "collapsed": true
   },
   "outputs": [],
   "source": [
    "la.head()"
   ]
  },
  {
   "cell_type": "code",
   "execution_count": null,
   "metadata": {
    "collapsed": true
   },
   "outputs": [],
   "source": [
    "la.drop('Brand', axis=1, inplace=True)\n",
    "\n",
    "cols = la.columns.tolist()\n",
    "cols[0] = 'store_id'\n",
    "la.columns = cols\n",
    "\n",
    "la.head()"
   ]
  },
  {
   "cell_type": "markdown",
   "metadata": {},
   "source": [
    "# Uses for Requests in Data Science\n",
    "* Easy retrieval of data from the web\n",
    "\n",
    "# Uses for Pandas in Data Science\n",
    "* Too many to count!"
   ]
  }
 ],
 "metadata": {
  "kernelspec": {
   "display_name": "Python 2",
   "language": "python",
   "name": "python2"
  },
  "language_info": {
   "codemirror_mode": {
    "name": "ipython",
    "version": 2
   },
   "file_extension": ".py",
   "mimetype": "text/x-python",
   "name": "python",
   "nbconvert_exporter": "python",
   "pygments_lexer": "ipython2",
   "version": "2.7.6"
  }
 },
 "nbformat": 4,
 "nbformat_minor": 0
}
