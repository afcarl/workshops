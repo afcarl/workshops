{
 "cells": [
  {
   "cell_type": "markdown",
   "metadata": {},
   "source": [
    "# Basemap\n",
    "\n",
    "Basemap is a part of Matplotlib which enables the easy creation of robus maps and beautiful maps."
   ]
  },
  {
   "cell_type": "code",
   "execution_count": null,
   "metadata": {
    "collapsed": true
   },
   "outputs": [],
   "source": [
    "!sudo pip install geopy"
   ]
  },
  {
   "cell_type": "code",
   "execution_count": null,
   "metadata": {
    "collapsed": true
   },
   "outputs": [],
   "source": [
    "%matplotlib inline\n",
    "import osmapi\n",
    "import matplotlib\n",
    "import matplotlib.cm as cm\n",
    "import matplotlib.pyplot as plt\n",
    "from matplotlib.colors import colorConverter\n",
    "import numpy as np\n",
    "import pandas as pd # odd dependency, must import before basemap!\n",
    "from mpl_toolkits.basemap import Basemap"
   ]
  },
  {
   "cell_type": "code",
   "execution_count": null,
   "metadata": {
    "collapsed": true
   },
   "outputs": [],
   "source": [
    "# A SIMPLE GRAPH INCLUDING ALL THE RIVERS IN THE CONTINENTAL UNITED STATES\n",
    "\n",
    "fig = plt.figure(figsize=(12,10))\n",
    "ax = fig.add_axes([0.1,0.1,0.8,0.8])\n",
    "lat_0=35\n",
    "map = Basemap(projection='stere',lon_0=-100,lat_0=35.,lat_ts=lat_0,\\\n",
    "            llcrnrlat=20,urcrnrlat=50,\\\n",
    "            llcrnrlon=-125,urcrnrlon=-50,\\\n",
    "            rsphere=6371200.,resolution='l',area_thresh=10000)\n",
    "map.drawcoastlines()\n",
    "map.drawcountries()\n",
    "map.drawcoastlines(linewidth=0.25)\n",
    "map.drawcountries(linewidth=0.25)\n",
    "map.drawstates()\n",
    "map.drawrivers()\n",
    "map.fillcontinents(color='green',lake_color='aqua')\n",
    "map.drawmeridians(np.arange(0,360,10))\n",
    "map.drawparallels(np.arange(-90,90,10))\n",
    "map.drawmapboundary()\n",
    "plt.show()"
   ]
  },
  {
   "cell_type": "code",
   "execution_count": null,
   "metadata": {
    "collapsed": true
   },
   "outputs": [],
   "source": [
    "# A FLAT MAP WITH AN IMAGE BACKGROUND\n",
    "\n",
    "fig = plt.figure(figsize=(12,12))\n",
    "ax = fig.add_axes([0.1,0.1,0.8,0.8])\n",
    "map = Basemap(\\\n",
    "            llcrnrlat=25,urcrnrlat=50,\\\n",
    "            llcrnrlon=-125,urcrnrlon=-60,\\\n",
    "            rsphere=6371200.,resolution='l',area_thresh=10000)\n",
    "map.drawcoastlines()\n",
    "map.drawcountries()\n",
    "map.drawcoastlines(linewidth=0.25)\n",
    "map.drawcountries(linewidth=0.25)\n",
    "map.drawstates()\n",
    "map.bluemarble() # NASA's famous blue marble image\n",
    "map.drawmeridians(np.arange(0,360,10))\n",
    "map.drawparallels(np.arange(-90,90,10))\n",
    "map.drawmapboundary()\n",
    "plt.show()"
   ]
  },
  {
   "cell_type": "code",
   "execution_count": null,
   "metadata": {
    "collapsed": true
   },
   "outputs": [],
   "source": [
    "# LOAD ALL THE STARBUCKS LOCATIONS FROM EARLIER\n",
    "\n",
    "fname = 'All_Starbucks_Locations_in_the_World.csv'\n",
    "df = pd.read_csv(fname)\n",
    "cfilter = df['Country'] == 'US'\n",
    "sfilter = df['Country Subdivision'] == 'CA'\n",
    "lafilter = df['City'] == 'Los Angeles'\n",
    "df['color'] = 'blue'\n",
    "df.ix[lafilter, 'color'] = 'green'\n",
    "filter = cfilter & sfilter\n",
    "ca = df[filter]"
   ]
  },
  {
   "cell_type": "code",
   "execution_count": null,
   "metadata": {
    "collapsed": true
   },
   "outputs": [],
   "source": [
    "# PLOT STARBUCKS LOCATIONS IN LOS ANGELES COUNTY\n",
    "\n",
    "fig = plt.figure(figsize=(12,12))\n",
    "ax = fig.add_axes([0.1,0.1,0.8,0.8])\n",
    "map = Basemap(projection='stere',lon_0=-100,lat_0=35.,\\\n",
    "            llcrnrlat=33.1,urcrnrlat=35,\\\n",
    "            llcrnrlon=-119.0,urcrnrlon=-117.5,\\\n",
    "            rsphere=6371200.,resolution='h',area_thresh=10000)\n",
    "map.drawcountries()\n",
    "map.drawcounties(linewidth=0.25)\n",
    "map.drawmapboundary(fill_color='#99ffff')\n",
    "map.fillcontinents(color='#ffffff',lake_color='darkblue', zorder=0)\n",
    "map.drawrivers()\n",
    "\n",
    "lons = ca['Longitude'].tolist()\n",
    "lats = ca['Latitude'].tolist()\n",
    "\n",
    "x, y = map(lons, lats)\n",
    "map.scatter(x,y,100,marker='o',color=ca.color, alpha=0.1)\n",
    "\n",
    "# DataScience Office\n",
    "lon1 = -118.383014\n",
    "lat1 = 33.988385\n",
    "\n",
    "# Pasadena\n",
    "lon2 = -118.131944\n",
    "lat2 = 34.156111\n",
    "\n",
    "map.drawgreatcircle(lon1, lat1, lon2, lat2, lw=3)\n",
    "\n",
    "plt.show()"
   ]
  },
  {
   "cell_type": "markdown",
   "metadata": {},
   "source": [
    "# Uses for Basemap in Data Science\n",
    "* Visualization"
   ]
  }
 ],
 "metadata": {
  "kernelspec": {
   "display_name": "Python 2",
   "language": "python",
   "name": "python2"
  },
  "language_info": {
   "codemirror_mode": {
    "name": "ipython",
    "version": 2
   },
   "file_extension": ".py",
   "mimetype": "text/x-python",
   "name": "python",
   "nbconvert_exporter": "python",
   "pygments_lexer": "ipython2",
   "version": "2.7.6"
  }
 },
 "nbformat": 4,
 "nbformat_minor": 0
}
