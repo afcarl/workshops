{
 "cells": [
  {
   "cell_type": "markdown",
   "metadata": {},
   "source": [
    "# NetworkX\n",
    "\n",
    "[NetworkX](https://networkx.github.io/) is a Python library for doing in-memory graph analysis."
   ]
  },
  {
   "cell_type": "code",
   "execution_count": 2,
   "metadata": {
    "collapsed": true
   },
   "outputs": [],
   "source": [
    "%matplotlib inline\n",
    "import matplotlib.pyplot as plt\n",
    "import networkx as nx"
   ]
  },
  {
   "cell_type": "code",
   "execution_count": 6,
   "metadata": {
    "collapsed": true
   },
   "outputs": [],
   "source": [
    "G.add_edge('a', 'z')"
   ]
  },
  {
   "cell_type": "code",
   "execution_count": 7,
   "metadata": {
    "collapsed": false
   },
   "outputs": [
    {
     "data": {
      "text/plain": [
       "['a', 'c', 'b', 'e', 'd', 'f', 'z']"
      ]
     },
     "execution_count": 7,
     "metadata": {},
     "output_type": "execute_result"
    }
   ],
   "source": [
    "G.nodes()"
   ]
  },
  {
   "cell_type": "code",
   "execution_count": null,
   "metadata": {
    "collapsed": true
   },
   "outputs": [],
   "source": [
    " if len(ic) > 1:\n",
    "                g.add_node(ref, {'label': name})\n",
    "            else:\n",
    "                g.add_node(ref, {'label': '[intersection]'})"
   ]
  },
  {
   "cell_type": "code",
   "execution_count": 3,
   "metadata": {
    "collapsed": false
   },
   "outputs": [
    {
     "data": {
      "image/png": "[encoded data removed]",
      "text/plain": [
       "<matplotlib.figure.Figure at 0x7f64bdeabed0>"
      ]
     },
     "metadata": {},
     "output_type": "display_data"
    }
   ],
   "source": [
    "\n",
    "\n",
    "\n",
    "# A SIMPLE EXAMPLE\n",
    "\n",
    "G=nx.Graph()\n",
    "\n",
    "G.add_node(\"a\")\n",
    "G.add_node(\"a\")\n",
    "G.add_node(\"b\")\n",
    "G.add_node(\"c\")\n",
    "G.add_node(\"d\")\n",
    "G.add_node(\"e\")\n",
    "G.add_node(\"f\")\n",
    "\n",
    "G.add_edge('a', 'c')\n",
    "G.add_edge('b', 'c')\n",
    "G.add_edge('e', 'd')\n",
    "G.add_edge('c', 'e')\n",
    "G.add_edge('e', 'f')\n",
    "G.add_edge('c', 'f')\n",
    "\n",
    "pos=nx.spring_layout(G)\n",
    "nx.draw(G, pos=pos)\n",
    "nx.draw_networkx_labels(G, pos=pos)\n",
    "plt.show()"
   ]
  },
  {
   "cell_type": "code",
   "execution_count": null,
   "metadata": {
    "collapsed": true
   },
   "outputs": [],
   "source": [
    "# SOME FAKE DATA\n",
    "\n",
    "locations =['Large Warehouse', 'Small Warehouse'\n",
    " , 'Retail 1', 'Retail 2', 'Retail 3', 'Retail 4'\n",
    " , 'Supplier 1', 'Supplier 2', 'Supplier 3']\n",
    "\n",
    "adjacency = [\n",
    "      [   0, 1500,  100,  275, 1600, 1750,  500,  130, 1550] #Large Warehouse'\n",
    "    , [  -1,    0, 1475, 1600,  400,   50,  500, 1800,  100] #Small Warehouse'\n",
    "    , [  -1,   -1,    0,  300, 1750, 1600, 9999, 9999, 9999] #Retail 1\n",
    "    , [  -1,   -1,   -1,    0, 1840, 1900, 9999, 9999, 9999] #Retail 2\n",
    "    , [  -1,   -1,   -1,   -1,    0,  650, 9999, 9999, 9999] #Retail 3\n",
    "    , [  -1,   -1,   -1,   -1,   -1,    0, 9999, 9999, 9999] #Retail 4\n",
    "    , [  -1,   -1,   -1,   -1,   -1,   -1,    0,  400,  700] #Supplier 1\n",
    "    , [  -1,   -1,   -1,   -1,   -1,   -1,   -1,    0, 1900] #Supplier 2\n",
    "    , [  -1,   -1,   -1,   -1,   -1,   -1,   -1,   -1, 1775] #Supplier 3\n",
    "]"
   ]
  },
  {
   "cell_type": "code",
   "execution_count": null,
   "metadata": {
    "collapsed": true
   },
   "outputs": [],
   "source": [
    "# CONVERT THAT FAKE DATA INTO A GRAPH\n",
    "\n",
    "g = nx.Graph()\n",
    "\n",
    "for loc in locations:\n",
    "    g.add_node(loc)\n",
    "\n",
    "for i in range(len(locations)):\n",
    "    r = locations[i]\n",
    "    row = adjacency[i]\n",
    "    for j in range (i+1, len(locations)):\n",
    "        c = locations[j]\n",
    "        val = row[j]\n",
    "        if val > 0 and val < 9999:\n",
    "            g.add_edge(r, c, miles=val)"
   ]
  },
  {
   "cell_type": "code",
   "execution_count": null,
   "metadata": {
    "collapsed": true
   },
   "outputs": [],
   "source": [
    "# VISUALIZE OUR DATASET\n",
    "\n",
    "pos={'Large Warehouse': [ 7,  2],\n",
    "     'Small Warehouse': [ 2,  1.75],\n",
    "     'Retail 1':        [ 6.5,  3],\n",
    "     'Retail 2':        [ 7.5,  .6],\n",
    "     'Retail 3':        [ 3,  .6],\n",
    "     'Retail 4':        [ 1.5,  0.75],\n",
    "     'Supplier 1':      [ 5,  3.5],\n",
    "     'Supplier 2':      [ 9,  3],\n",
    "     'Supplier 3':      [ 1,  2.5 ]}\n",
    "nx.draw(g, pos=pos, node_size=4000)\n",
    "nx.draw_networkx_labels(g, pos=pos)\n",
    "plt.show()"
   ]
  },
  {
   "cell_type": "code",
   "execution_count": null,
   "metadata": {
    "collapsed": true
   },
   "outputs": [],
   "source": [
    "# WHAT IS THE SHORTEST ROUTE TO TRANSPORT FROM SUPPLIER 1 TO RETAIL 3?\n",
    "\n",
    "nx.dijkstra_path(g, source='Supplier 1', target='Retail 3', weight='miles')"
   ]
  },
  {
   "cell_type": "markdown",
   "metadata": {},
   "source": [
    "# Just a touch of computational theory\n",
    "\n",
    "##Dijkstra's algorithm\n",
    "* Finds the shortest path between a source node and all other nodes\n",
    "\n",
    "Time complexity: $O(|E| + |V|\\text{log}|V|)$\n",
    "\n",
    "## A* search algorithm\n",
    "* Extends Dijkstra adding in some heuristics\n",
    "\n",
    "Time complexity: $O(|E|)$\n",
    "\n",
    "##Johnson's algorithm\n",
    "* Finds all pairs of shortest paths in a weighted graph\n",
    "* An extension of Dijkstra (sort of)\n",
    "* An impressive algorithm\n",
    "\n",
    "Time complexity: $O(|V|^2 \\text{log}|V| + |V||E|$\n",
    "\n",
    "##Floyd-Warshall algorithm\n",
    "* Finds all pairs of shortest paths in a weighted graph\n",
    "* Allows negative edges, but no negative cycles\n",
    "* Better with highly dense graphs\n",
    "\n",
    "Time complexity: $O(|V|^3)$\n",
    "\n",
    "Space complexity: $\\Theta(|V|^2)$"
   ]
  },
  {
   "cell_type": "code",
   "execution_count": null,
   "metadata": {
    "collapsed": true
   },
   "outputs": [],
   "source": [
    "ap = nx.floyd_warshall(g, weight='miles')\n",
    "print(ap['Supplier 3'])\n"
   ]
  },
  {
   "cell_type": "markdown",
   "metadata": {},
   "source": [
    "# Uses for NetworkX in Data Science\n",
    "* Related products\n",
    "* Supply chain optimization\n",
    "* Social graph\n",
    "* Internet topology"
   ]
  }
 ],
 "metadata": {
  "kernelspec": {
   "display_name": "Python 2",
   "language": "python",
   "name": "python2"
  },
  "language_info": {
   "codemirror_mode": {
    "name": "ipython",
    "version": 2
   },
   "file_extension": ".py",
   "mimetype": "text/x-python",
   "name": "python",
   "nbconvert_exporter": "python",
   "pygments_lexer": "ipython2",
   "version": "2.7.6"
  }
 },
 "nbformat": 4,
 "nbformat_minor": 0
}
